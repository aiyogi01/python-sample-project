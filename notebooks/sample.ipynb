{
 "cells": [
  {
   "cell_type": "code",
   "execution_count": null,
   "id": "accredited-controversy",
   "metadata": {},
   "outputs": [],
   "source": [
    "# Activate hot code reloading\n",
    "%load_ext autoreload\n",
    "%autoreload 2\n",
    "\n",
    "# Make the main package available for imports\n",
    "import add_path"
   ]
  },
  {
   "cell_type": "code",
   "execution_count": null,
   "id": "interim-premises",
   "metadata": {},
   "outputs": [],
   "source": [
    "from sample_project.sample import main"
   ]
  },
  {
   "cell_type": "code",
   "execution_count": null,
   "id": "shaped-state",
   "metadata": {},
   "outputs": [],
   "source": [
    "main()"
   ]
  }
 ],
 "metadata": {
  "kernelspec": {
   "display_name": "Python 3",
   "language": "python",
   "name": "python3"
  },
  "language_info": {
   "codemirror_mode": {
    "name": "ipython",
    "version": 3
   },
   "file_extension": ".py",
   "mimetype": "text/x-python",
   "name": "python",
   "nbconvert_exporter": "python",
   "pygments_lexer": "ipython3",
   "version": "3.8.1"
  }
 },
 "nbformat": 4,
 "nbformat_minor": 5
}
